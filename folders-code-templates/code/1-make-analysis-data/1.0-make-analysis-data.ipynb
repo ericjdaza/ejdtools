{
 "cells": [
  {
   "cell_type": "markdown",
   "metadata": {},
   "source": [
    "# Project: \n",
    "Jira: \n",
    "\n",
    "## Data flow\n",
    "See config.json for data folder (i.e., config['path_data']).\n",
    "- Input: files in config['input*'], config['output'], and config['output_pd'] folders from config.json.\n",
    "- Output: files in config['output'] and config['output_ad'] folders from config.json."
   ]
  },
  {
   "cell_type": "markdown",
   "metadata": {},
   "source": [
    "# Preliminary processing"
   ]
  },
  {
   "cell_type": "code",
   "execution_count": null,
   "metadata": {},
   "outputs": [],
   "source": [
    "# RUN THIS CODE IN TERMINAL BEFORE RUNNING THIS CELL TO PREVENT INSTALL.PACKAGES() ERRORS:",
    "# sudo chmod -R 777 /opt/domino/spark/R/\n",
    "\n",
    "## Clear environment and install/load packages.\n",
    "rm(list=ls())\n",
    "if (!require(\"pacman\")) install.packages(\"pacman\") # just to make sure \"pacman\" is installed\n",
    "pacman::p_load() # e.g., naniar, extrafont, tidyverse, reshape2, janitor, lubridate, jsonlite, arsenal, knitr, feather\n",
    "\n",
    "\n",
    "## Set global parameters.\n",
    "scalar_seed <- \n",
    "\n",
    "\n",
    "## Read config file. The part of the path before \"output/config.json\"\n",
    "## should exactly match config$path_data.\n",
    "config <- jsonlite::fromJSON(\"/.../output/config.json\")\n",
    "str(config)\n",
    "\n",
    "\n",
    "## Load custom tools.\n",
    "files_sources <- list.files(paste0(path_code, \"ejdtools/\"))\n",
    "sapply(paste0(config$path_code, \"ejdtools/\", files_sources), source)\n",
    "rm(files_sources)"
   ]
  },
  {
   "cell_type": "markdown",
   "metadata": {},
   "source": [
    "# Gather data."
   ]
  },
  {
   "cell_type": "markdown",
   "metadata": {},
   "source": [
    "## Dataset 1"
   ]
  },
  {
   "cell_type": "code",
   "execution_count": null,
   "metadata": {},
   "outputs": [],
   "source": [
    "[temp_name1]_[1] <- ...\n",
    "...\n",
    "[temp_name1]_[m] <- ..."
   ]
  },
  {
   "cell_type": "markdown",
   "metadata": {},
   "source": [
    "### Output data."
   ]
  },
  {
   "cell_type": "code",
   "execution_count": null,
   "metadata": {},
   "outputs": [],
   "source": [
    "[final_name1] <- [temp_name1]_[m]\n",
    "\n",
    "[final_name1] %>% str\n",
    "feather::write_feather([final_name1], paste0(config$output_ad, \"/[final_name1].feather\"))"
   ]
  },
  {
   "cell_type": "markdown",
   "metadata": {},
   "source": [
    "## Dataset n"
   ]
  },
  {
   "cell_type": "markdown",
   "metadata": {},
   "source": [
    "### Output data."
   ]
  },
  {
   "cell_type": "markdown",
   "metadata": {},
   "source": [
    "# Process data."
   ]
  },
  {
   "cell_type": "markdown",
   "metadata": {},
   "source": [
    "### Output data."
   ]
  },
  {
   "cell_type": "markdown",
   "metadata": {},
   "source": [
    "# Create analysis dataset."
   ]
  },
  {
   "cell_type": "markdown",
   "metadata": {},
   "source": [
    "### Output data."
   ]
  }
 ],
 "metadata": {
  "kernelspec": {
   "display_name": "R",
   "language": "R",
   "name": "ir"
  },
  "language_info": {
   "codemirror_mode": "r",
   "file_extension": ".r",
   "mimetype": "text/x-r-source",
   "name": "R",
   "pygments_lexer": "r",
   "version": "3.6.3"
  }
 },
 "nbformat": 4,
 "nbformat_minor": 4
}
