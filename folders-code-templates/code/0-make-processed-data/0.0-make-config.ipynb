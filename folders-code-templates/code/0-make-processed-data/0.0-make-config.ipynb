{
 "cells": [
  {
   "cell_type": "markdown",
   "metadata": {},
   "source": [
    "# Project: \n",
    "\n",
    "Jira: \n",
    "\n",
    "## Data flow\n",
    "\n",
    "- Input: none.\n",
    "- Output: config.json located in output key specified in config.json specified below."
   ]
  },
  {
   "cell_type": "markdown",
   "metadata": {},
   "source": [
    "# Preliminary processing"
   ]
  },
  {
   "cell_type": "code",
   "execution_count": null,
   "metadata": {},
   "outputs": [],
   "source": [
    "## Install/load packages.\n",
    "if (!require(\"pacman\")) install.packages(\"pacman\") # just to make sure \"pacman\" is installed\n",
    "pacman::p_load(jsonlite)"
   ]
  },
  {
   "cell_type": "code",
   "execution_count": null,
   "metadata": {},
   "outputs": [],
   "source": [
    "# Create config file.\n",
    "path_code <- # e.g., \"/.../[project_slug]/code/\"\n",
    "path_data <- # e.g., \"/.../[project_slug]/data/\"\n",
    "config <- jsonlite::write_json( # https://rdrr.io/github/skgrange/threadr/man/write_json.html\n",
    "  \n",
    "  list(\n",
    "    \n",
    "    path_code =   path_code,\n",
    "    path_data =   path_data,\n",
    "    \n",
    "    input =       paste0(path_data, \"input/\"),\n",
    "\n",
    "    output =      paste0(path_data, \"output/\"),\n",
    "    output_pd =   paste0(path_data, \"output/0-processed-data/\"),\n",
    "    output_ad =   paste0(path_data, \"output/1-analysis-data/\"),\n",
    "    output_ao =   paste0(path_data, \"output/2-analysis-output/\")\n",
    "    \n",
    "  ),\n",
    "  paste0(path_data, \"output/config.json\")\n",
    "  \n",
    ")\n",
    "rm(path_code, path_data)"
   ]
  }
 ],
 "metadata": {
  "kernelspec": {
   "display_name": "R",
   "language": "R",
   "name": "ir"
  },
  "language_info": {
   "codemirror_mode": "r",
   "file_extension": ".r",
   "mimetype": "text/x-r-source",
   "name": "R",
   "pygments_lexer": "r",
   "version": "3.6.3"
  }
 },
 "nbformat": 4,
 "nbformat_minor": 4
}
